{
 "cells": [
  {
   "cell_type": "markdown",
   "id": "cb034dcb-680a-4913-a0b7-52423fd2dc37",
   "metadata": {},
   "source": [
    "# Data Clean , Data insights and Representation"
   ]
  },
  {
   "cell_type": "code",
   "execution_count": 1,
   "id": "04ac09eb-feec-44dc-93cb-dd7c06fd82a3",
   "metadata": {},
   "outputs": [],
   "source": [
    "import pandas as pd\n",
    "import matplotlib.pyplot as plt\n",
    "import seaborn as sns"
   ]
  },
  {
   "cell_type": "code",
   "execution_count": 2,
   "id": "5ad978f8-5f48-48b4-b12e-afc062cebf74",
   "metadata": {},
   "outputs": [],
   "source": [
    "df = pd.read_csv(\"hospital_data.csv\")"
   ]
  },
  {
   "cell_type": "code",
   "execution_count": 3,
   "id": "28db70be-f13d-4804-be21-9048ad2d8c8f",
   "metadata": {},
   "outputs": [
    {
     "data": {
      "text/html": [
       "<div>\n",
       "<style scoped>\n",
       "    .dataframe tbody tr th:only-of-type {\n",
       "        vertical-align: middle;\n",
       "    }\n",
       "\n",
       "    .dataframe tbody tr th {\n",
       "        vertical-align: top;\n",
       "    }\n",
       "\n",
       "    .dataframe thead th {\n",
       "        text-align: right;\n",
       "    }\n",
       "</style>\n",
       "<table border=\"1\" class=\"dataframe\">\n",
       "  <thead>\n",
       "    <tr style=\"text-align: right;\">\n",
       "      <th></th>\n",
       "      <th>Patient_ID</th>\n",
       "      <th>Age</th>\n",
       "      <th>Gender</th>\n",
       "      <th>Disease</th>\n",
       "      <th>Admission_Date</th>\n",
       "      <th>Discharge_Date</th>\n",
       "      <th>Hospital_Ward</th>\n",
       "      <th>Bill_Amount</th>\n",
       "    </tr>\n",
       "  </thead>\n",
       "  <tbody>\n",
       "    <tr>\n",
       "      <th>0</th>\n",
       "      <td>1</td>\n",
       "      <td>61.0</td>\n",
       "      <td>Female</td>\n",
       "      <td>Flu</td>\n",
       "      <td>2024-01-01</td>\n",
       "      <td>2024-01-05</td>\n",
       "      <td>E</td>\n",
       "      <td>22337.0</td>\n",
       "    </tr>\n",
       "    <tr>\n",
       "      <th>1</th>\n",
       "      <td>2</td>\n",
       "      <td>24.0</td>\n",
       "      <td>Female</td>\n",
       "      <td>Cancer</td>\n",
       "      <td>2024-01-02</td>\n",
       "      <td>2024-01-06</td>\n",
       "      <td>A</td>\n",
       "      <td>40307.0</td>\n",
       "    </tr>\n",
       "    <tr>\n",
       "      <th>2</th>\n",
       "      <td>3</td>\n",
       "      <td>81.0</td>\n",
       "      <td>Male</td>\n",
       "      <td>NaN</td>\n",
       "      <td>2024-01-03</td>\n",
       "      <td>2024-01-07</td>\n",
       "      <td>E</td>\n",
       "      <td>NaN</td>\n",
       "    </tr>\n",
       "    <tr>\n",
       "      <th>3</th>\n",
       "      <td>4</td>\n",
       "      <td>70.0</td>\n",
       "      <td>Female</td>\n",
       "      <td>NaN</td>\n",
       "      <td>2024-01-04</td>\n",
       "      <td>2024-01-08</td>\n",
       "      <td>E</td>\n",
       "      <td>16516.0</td>\n",
       "    </tr>\n",
       "    <tr>\n",
       "      <th>4</th>\n",
       "      <td>5</td>\n",
       "      <td>30.0</td>\n",
       "      <td>Male</td>\n",
       "      <td>Heart Disease</td>\n",
       "      <td>2024-01-05</td>\n",
       "      <td>2024-01-09</td>\n",
       "      <td>E</td>\n",
       "      <td>49261.0</td>\n",
       "    </tr>\n",
       "    <tr>\n",
       "      <th>...</th>\n",
       "      <td>...</td>\n",
       "      <td>...</td>\n",
       "      <td>...</td>\n",
       "      <td>...</td>\n",
       "      <td>...</td>\n",
       "      <td>...</td>\n",
       "      <td>...</td>\n",
       "      <td>...</td>\n",
       "    </tr>\n",
       "    <tr>\n",
       "      <th>155</th>\n",
       "      <td>90</td>\n",
       "      <td>17.0</td>\n",
       "      <td>NaN</td>\n",
       "      <td>Diabetes</td>\n",
       "      <td>2024-03-30</td>\n",
       "      <td>2024-04-03</td>\n",
       "      <td>D</td>\n",
       "      <td>28959.0</td>\n",
       "    </tr>\n",
       "    <tr>\n",
       "      <th>156</th>\n",
       "      <td>120</td>\n",
       "      <td>18.0</td>\n",
       "      <td>Male</td>\n",
       "      <td>Heart Disease</td>\n",
       "      <td>2024-04-29</td>\n",
       "      <td>2024-05-03</td>\n",
       "      <td>D</td>\n",
       "      <td>6015.0</td>\n",
       "    </tr>\n",
       "    <tr>\n",
       "      <th>157</th>\n",
       "      <td>108</td>\n",
       "      <td>71.0</td>\n",
       "      <td>Male</td>\n",
       "      <td>COVID-19</td>\n",
       "      <td>2024-04-17</td>\n",
       "      <td>2024-04-21</td>\n",
       "      <td>A</td>\n",
       "      <td>36471.0</td>\n",
       "    </tr>\n",
       "    <tr>\n",
       "      <th>158</th>\n",
       "      <td>97</td>\n",
       "      <td>14.0</td>\n",
       "      <td>Female</td>\n",
       "      <td>COVID-19</td>\n",
       "      <td>2024-04-06</td>\n",
       "      <td>2024-04-10</td>\n",
       "      <td>D</td>\n",
       "      <td>36921.0</td>\n",
       "    </tr>\n",
       "    <tr>\n",
       "      <th>159</th>\n",
       "      <td>64</td>\n",
       "      <td>72.0</td>\n",
       "      <td>Male</td>\n",
       "      <td>Heart Disease</td>\n",
       "      <td>2024-03-04</td>\n",
       "      <td>2024-03-08</td>\n",
       "      <td>B</td>\n",
       "      <td>25559.0</td>\n",
       "    </tr>\n",
       "  </tbody>\n",
       "</table>\n",
       "<p>160 rows × 8 columns</p>\n",
       "</div>"
      ],
      "text/plain": [
       "     Patient_ID   Age  Gender        Disease Admission_Date Discharge_Date  \\\n",
       "0             1  61.0  Female            Flu     2024-01-01     2024-01-05   \n",
       "1             2  24.0  Female         Cancer     2024-01-02     2024-01-06   \n",
       "2             3  81.0    Male            NaN     2024-01-03     2024-01-07   \n",
       "3             4  70.0  Female            NaN     2024-01-04     2024-01-08   \n",
       "4             5  30.0    Male  Heart Disease     2024-01-05     2024-01-09   \n",
       "..          ...   ...     ...            ...            ...            ...   \n",
       "155          90  17.0     NaN       Diabetes     2024-03-30     2024-04-03   \n",
       "156         120  18.0    Male  Heart Disease     2024-04-29     2024-05-03   \n",
       "157         108  71.0    Male       COVID-19     2024-04-17     2024-04-21   \n",
       "158          97  14.0  Female       COVID-19     2024-04-06     2024-04-10   \n",
       "159          64  72.0    Male  Heart Disease     2024-03-04     2024-03-08   \n",
       "\n",
       "    Hospital_Ward  Bill_Amount  \n",
       "0               E      22337.0  \n",
       "1               A      40307.0  \n",
       "2               E          NaN  \n",
       "3               E      16516.0  \n",
       "4               E      49261.0  \n",
       "..            ...          ...  \n",
       "155             D      28959.0  \n",
       "156             D       6015.0  \n",
       "157             A      36471.0  \n",
       "158             D      36921.0  \n",
       "159             B      25559.0  \n",
       "\n",
       "[160 rows x 8 columns]"
      ]
     },
     "execution_count": 3,
     "metadata": {},
     "output_type": "execute_result"
    }
   ],
   "source": [
    "df"
   ]
  },
  {
   "cell_type": "markdown",
   "id": "c3b7531f-d2fc-4d04-a45f-85760257dfee",
   "metadata": {},
   "source": [
    "# Data Null values Completed\n",
    "## use function df.fillna(method=\"ffill\")"
   ]
  },
  {
   "cell_type": "code",
   "execution_count": 4,
   "id": "796c269d-95b9-4044-887e-b861db0e859f",
   "metadata": {},
   "outputs": [
    {
     "data": {
      "text/plain": [
       "Patient_ID         0\n",
       "Age               15\n",
       "Gender            17\n",
       "Disease           15\n",
       "Admission_Date     0\n",
       "Discharge_Date     0\n",
       "Hospital_Ward      0\n",
       "Bill_Amount       15\n",
       "dtype: int64"
      ]
     },
     "execution_count": 4,
     "metadata": {},
     "output_type": "execute_result"
    }
   ],
   "source": [
    "df.isnull().sum()"
   ]
  },
  {
   "cell_type": "code",
   "execution_count": 5,
   "id": "1907f5a9-e463-4733-ba2f-b4a2ff58e7a0",
   "metadata": {},
   "outputs": [
    {
     "name": "stderr",
     "output_type": "stream",
     "text": [
      "C:\\Users\\Mr.PC\\AppData\\Local\\Temp\\ipykernel_11072\\466322615.py:1: FutureWarning: DataFrame.fillna with 'method' is deprecated and will raise in a future version. Use obj.ffill() or obj.bfill() instead.\n",
      "  df_fill = df.fillna(method=\"ffill\")\n"
     ]
    }
   ],
   "source": [
    "df_fill = df.fillna(method=\"ffill\")"
   ]
  },
  {
   "cell_type": "code",
   "execution_count": 6,
   "id": "4117e480-9ea3-412d-bb31-ab3aa8b006f8",
   "metadata": {},
   "outputs": [
    {
     "data": {
      "text/html": [
       "<div>\n",
       "<style scoped>\n",
       "    .dataframe tbody tr th:only-of-type {\n",
       "        vertical-align: middle;\n",
       "    }\n",
       "\n",
       "    .dataframe tbody tr th {\n",
       "        vertical-align: top;\n",
       "    }\n",
       "\n",
       "    .dataframe thead th {\n",
       "        text-align: right;\n",
       "    }\n",
       "</style>\n",
       "<table border=\"1\" class=\"dataframe\">\n",
       "  <thead>\n",
       "    <tr style=\"text-align: right;\">\n",
       "      <th></th>\n",
       "      <th>Patient_ID</th>\n",
       "      <th>Age</th>\n",
       "      <th>Gender</th>\n",
       "      <th>Disease</th>\n",
       "      <th>Admission_Date</th>\n",
       "      <th>Discharge_Date</th>\n",
       "      <th>Hospital_Ward</th>\n",
       "      <th>Bill_Amount</th>\n",
       "    </tr>\n",
       "  </thead>\n",
       "  <tbody>\n",
       "    <tr>\n",
       "      <th>0</th>\n",
       "      <td>1</td>\n",
       "      <td>61.0</td>\n",
       "      <td>Female</td>\n",
       "      <td>Flu</td>\n",
       "      <td>2024-01-01</td>\n",
       "      <td>2024-01-05</td>\n",
       "      <td>E</td>\n",
       "      <td>22337.0</td>\n",
       "    </tr>\n",
       "    <tr>\n",
       "      <th>1</th>\n",
       "      <td>2</td>\n",
       "      <td>24.0</td>\n",
       "      <td>Female</td>\n",
       "      <td>Cancer</td>\n",
       "      <td>2024-01-02</td>\n",
       "      <td>2024-01-06</td>\n",
       "      <td>A</td>\n",
       "      <td>40307.0</td>\n",
       "    </tr>\n",
       "    <tr>\n",
       "      <th>2</th>\n",
       "      <td>3</td>\n",
       "      <td>81.0</td>\n",
       "      <td>Male</td>\n",
       "      <td>Cancer</td>\n",
       "      <td>2024-01-03</td>\n",
       "      <td>2024-01-07</td>\n",
       "      <td>E</td>\n",
       "      <td>40307.0</td>\n",
       "    </tr>\n",
       "    <tr>\n",
       "      <th>3</th>\n",
       "      <td>4</td>\n",
       "      <td>70.0</td>\n",
       "      <td>Female</td>\n",
       "      <td>Cancer</td>\n",
       "      <td>2024-01-04</td>\n",
       "      <td>2024-01-08</td>\n",
       "      <td>E</td>\n",
       "      <td>16516.0</td>\n",
       "    </tr>\n",
       "    <tr>\n",
       "      <th>4</th>\n",
       "      <td>5</td>\n",
       "      <td>30.0</td>\n",
       "      <td>Male</td>\n",
       "      <td>Heart Disease</td>\n",
       "      <td>2024-01-05</td>\n",
       "      <td>2024-01-09</td>\n",
       "      <td>E</td>\n",
       "      <td>49261.0</td>\n",
       "    </tr>\n",
       "    <tr>\n",
       "      <th>...</th>\n",
       "      <td>...</td>\n",
       "      <td>...</td>\n",
       "      <td>...</td>\n",
       "      <td>...</td>\n",
       "      <td>...</td>\n",
       "      <td>...</td>\n",
       "      <td>...</td>\n",
       "      <td>...</td>\n",
       "    </tr>\n",
       "    <tr>\n",
       "      <th>155</th>\n",
       "      <td>90</td>\n",
       "      <td>17.0</td>\n",
       "      <td>Male</td>\n",
       "      <td>Diabetes</td>\n",
       "      <td>2024-03-30</td>\n",
       "      <td>2024-04-03</td>\n",
       "      <td>D</td>\n",
       "      <td>28959.0</td>\n",
       "    </tr>\n",
       "    <tr>\n",
       "      <th>156</th>\n",
       "      <td>120</td>\n",
       "      <td>18.0</td>\n",
       "      <td>Male</td>\n",
       "      <td>Heart Disease</td>\n",
       "      <td>2024-04-29</td>\n",
       "      <td>2024-05-03</td>\n",
       "      <td>D</td>\n",
       "      <td>6015.0</td>\n",
       "    </tr>\n",
       "    <tr>\n",
       "      <th>157</th>\n",
       "      <td>108</td>\n",
       "      <td>71.0</td>\n",
       "      <td>Male</td>\n",
       "      <td>COVID-19</td>\n",
       "      <td>2024-04-17</td>\n",
       "      <td>2024-04-21</td>\n",
       "      <td>A</td>\n",
       "      <td>36471.0</td>\n",
       "    </tr>\n",
       "    <tr>\n",
       "      <th>158</th>\n",
       "      <td>97</td>\n",
       "      <td>14.0</td>\n",
       "      <td>Female</td>\n",
       "      <td>COVID-19</td>\n",
       "      <td>2024-04-06</td>\n",
       "      <td>2024-04-10</td>\n",
       "      <td>D</td>\n",
       "      <td>36921.0</td>\n",
       "    </tr>\n",
       "    <tr>\n",
       "      <th>159</th>\n",
       "      <td>64</td>\n",
       "      <td>72.0</td>\n",
       "      <td>Male</td>\n",
       "      <td>Heart Disease</td>\n",
       "      <td>2024-03-04</td>\n",
       "      <td>2024-03-08</td>\n",
       "      <td>B</td>\n",
       "      <td>25559.0</td>\n",
       "    </tr>\n",
       "  </tbody>\n",
       "</table>\n",
       "<p>160 rows × 8 columns</p>\n",
       "</div>"
      ],
      "text/plain": [
       "     Patient_ID   Age  Gender        Disease Admission_Date Discharge_Date  \\\n",
       "0             1  61.0  Female            Flu     2024-01-01     2024-01-05   \n",
       "1             2  24.0  Female         Cancer     2024-01-02     2024-01-06   \n",
       "2             3  81.0    Male         Cancer     2024-01-03     2024-01-07   \n",
       "3             4  70.0  Female         Cancer     2024-01-04     2024-01-08   \n",
       "4             5  30.0    Male  Heart Disease     2024-01-05     2024-01-09   \n",
       "..          ...   ...     ...            ...            ...            ...   \n",
       "155          90  17.0    Male       Diabetes     2024-03-30     2024-04-03   \n",
       "156         120  18.0    Male  Heart Disease     2024-04-29     2024-05-03   \n",
       "157         108  71.0    Male       COVID-19     2024-04-17     2024-04-21   \n",
       "158          97  14.0  Female       COVID-19     2024-04-06     2024-04-10   \n",
       "159          64  72.0    Male  Heart Disease     2024-03-04     2024-03-08   \n",
       "\n",
       "    Hospital_Ward  Bill_Amount  \n",
       "0               E      22337.0  \n",
       "1               A      40307.0  \n",
       "2               E      40307.0  \n",
       "3               E      16516.0  \n",
       "4               E      49261.0  \n",
       "..            ...          ...  \n",
       "155             D      28959.0  \n",
       "156             D       6015.0  \n",
       "157             A      36471.0  \n",
       "158             D      36921.0  \n",
       "159             B      25559.0  \n",
       "\n",
       "[160 rows x 8 columns]"
      ]
     },
     "execution_count": 6,
     "metadata": {},
     "output_type": "execute_result"
    }
   ],
   "source": [
    "df_fill"
   ]
  },
  {
   "cell_type": "markdown",
   "id": "7b7a2b7f-68ac-4c52-aa8d-355e4499e91e",
   "metadata": {},
   "source": [
    "# Duplicates values remove\n",
    "## use function df.drop_duplicates()"
   ]
  },
  {
   "cell_type": "code",
   "execution_count": 7,
   "id": "20be75c9-2ca7-48db-b82c-fec0da4abd92",
   "metadata": {},
   "outputs": [
    {
     "data": {
      "text/html": [
       "<div>\n",
       "<style scoped>\n",
       "    .dataframe tbody tr th:only-of-type {\n",
       "        vertical-align: middle;\n",
       "    }\n",
       "\n",
       "    .dataframe tbody tr th {\n",
       "        vertical-align: top;\n",
       "    }\n",
       "\n",
       "    .dataframe thead th {\n",
       "        text-align: right;\n",
       "    }\n",
       "</style>\n",
       "<table border=\"1\" class=\"dataframe\">\n",
       "  <thead>\n",
       "    <tr style=\"text-align: right;\">\n",
       "      <th></th>\n",
       "      <th>Patient_ID</th>\n",
       "      <th>Age</th>\n",
       "      <th>Gender</th>\n",
       "      <th>Disease</th>\n",
       "      <th>Admission_Date</th>\n",
       "      <th>Discharge_Date</th>\n",
       "      <th>Hospital_Ward</th>\n",
       "      <th>Bill_Amount</th>\n",
       "    </tr>\n",
       "  </thead>\n",
       "  <tbody>\n",
       "    <tr>\n",
       "      <th>0</th>\n",
       "      <td>1</td>\n",
       "      <td>61.0</td>\n",
       "      <td>Female</td>\n",
       "      <td>Flu</td>\n",
       "      <td>2024-01-01</td>\n",
       "      <td>2024-01-05</td>\n",
       "      <td>E</td>\n",
       "      <td>22337.0</td>\n",
       "    </tr>\n",
       "    <tr>\n",
       "      <th>1</th>\n",
       "      <td>2</td>\n",
       "      <td>24.0</td>\n",
       "      <td>Female</td>\n",
       "      <td>Cancer</td>\n",
       "      <td>2024-01-02</td>\n",
       "      <td>2024-01-06</td>\n",
       "      <td>A</td>\n",
       "      <td>40307.0</td>\n",
       "    </tr>\n",
       "    <tr>\n",
       "      <th>2</th>\n",
       "      <td>3</td>\n",
       "      <td>81.0</td>\n",
       "      <td>Male</td>\n",
       "      <td>NaN</td>\n",
       "      <td>2024-01-03</td>\n",
       "      <td>2024-01-07</td>\n",
       "      <td>E</td>\n",
       "      <td>NaN</td>\n",
       "    </tr>\n",
       "    <tr>\n",
       "      <th>3</th>\n",
       "      <td>4</td>\n",
       "      <td>70.0</td>\n",
       "      <td>Female</td>\n",
       "      <td>NaN</td>\n",
       "      <td>2024-01-04</td>\n",
       "      <td>2024-01-08</td>\n",
       "      <td>E</td>\n",
       "      <td>16516.0</td>\n",
       "    </tr>\n",
       "    <tr>\n",
       "      <th>4</th>\n",
       "      <td>5</td>\n",
       "      <td>30.0</td>\n",
       "      <td>Male</td>\n",
       "      <td>Heart Disease</td>\n",
       "      <td>2024-01-05</td>\n",
       "      <td>2024-01-09</td>\n",
       "      <td>E</td>\n",
       "      <td>49261.0</td>\n",
       "    </tr>\n",
       "    <tr>\n",
       "      <th>...</th>\n",
       "      <td>...</td>\n",
       "      <td>...</td>\n",
       "      <td>...</td>\n",
       "      <td>...</td>\n",
       "      <td>...</td>\n",
       "      <td>...</td>\n",
       "      <td>...</td>\n",
       "      <td>...</td>\n",
       "    </tr>\n",
       "    <tr>\n",
       "      <th>145</th>\n",
       "      <td>146</td>\n",
       "      <td>37.0</td>\n",
       "      <td>Male</td>\n",
       "      <td>Diabetes</td>\n",
       "      <td>2024-05-25</td>\n",
       "      <td>2024-05-29</td>\n",
       "      <td>C</td>\n",
       "      <td>28524.0</td>\n",
       "    </tr>\n",
       "    <tr>\n",
       "      <th>146</th>\n",
       "      <td>147</td>\n",
       "      <td>53.0</td>\n",
       "      <td>Female</td>\n",
       "      <td>Flu</td>\n",
       "      <td>2024-05-26</td>\n",
       "      <td>2024-05-30</td>\n",
       "      <td>B</td>\n",
       "      <td>8636.0</td>\n",
       "    </tr>\n",
       "    <tr>\n",
       "      <th>147</th>\n",
       "      <td>148</td>\n",
       "      <td>39.0</td>\n",
       "      <td>Male</td>\n",
       "      <td>Diabetes</td>\n",
       "      <td>2024-05-27</td>\n",
       "      <td>2024-05-31</td>\n",
       "      <td>D</td>\n",
       "      <td>15916.0</td>\n",
       "    </tr>\n",
       "    <tr>\n",
       "      <th>148</th>\n",
       "      <td>149</td>\n",
       "      <td>71.0</td>\n",
       "      <td>Male</td>\n",
       "      <td>Flu</td>\n",
       "      <td>2024-05-28</td>\n",
       "      <td>2024-06-01</td>\n",
       "      <td>A</td>\n",
       "      <td>9809.0</td>\n",
       "    </tr>\n",
       "    <tr>\n",
       "      <th>149</th>\n",
       "      <td>150</td>\n",
       "      <td>NaN</td>\n",
       "      <td>Male</td>\n",
       "      <td>COVID-19</td>\n",
       "      <td>2024-05-29</td>\n",
       "      <td>2024-06-02</td>\n",
       "      <td>B</td>\n",
       "      <td>37201.0</td>\n",
       "    </tr>\n",
       "  </tbody>\n",
       "</table>\n",
       "<p>150 rows × 8 columns</p>\n",
       "</div>"
      ],
      "text/plain": [
       "     Patient_ID   Age  Gender        Disease Admission_Date Discharge_Date  \\\n",
       "0             1  61.0  Female            Flu     2024-01-01     2024-01-05   \n",
       "1             2  24.0  Female         Cancer     2024-01-02     2024-01-06   \n",
       "2             3  81.0    Male            NaN     2024-01-03     2024-01-07   \n",
       "3             4  70.0  Female            NaN     2024-01-04     2024-01-08   \n",
       "4             5  30.0    Male  Heart Disease     2024-01-05     2024-01-09   \n",
       "..          ...   ...     ...            ...            ...            ...   \n",
       "145         146  37.0    Male       Diabetes     2024-05-25     2024-05-29   \n",
       "146         147  53.0  Female            Flu     2024-05-26     2024-05-30   \n",
       "147         148  39.0    Male       Diabetes     2024-05-27     2024-05-31   \n",
       "148         149  71.0    Male            Flu     2024-05-28     2024-06-01   \n",
       "149         150   NaN    Male       COVID-19     2024-05-29     2024-06-02   \n",
       "\n",
       "    Hospital_Ward  Bill_Amount  \n",
       "0               E      22337.0  \n",
       "1               A      40307.0  \n",
       "2               E          NaN  \n",
       "3               E      16516.0  \n",
       "4               E      49261.0  \n",
       "..            ...          ...  \n",
       "145             C      28524.0  \n",
       "146             B       8636.0  \n",
       "147             D      15916.0  \n",
       "148             A       9809.0  \n",
       "149             B      37201.0  \n",
       "\n",
       "[150 rows x 8 columns]"
      ]
     },
     "execution_count": 7,
     "metadata": {},
     "output_type": "execute_result"
    }
   ],
   "source": [
    "df_clean = df.drop_duplicates()\n",
    "df_clean"
   ]
  },
  {
   "cell_type": "code",
   "execution_count": 8,
   "id": "05dae27a-e3bc-45d0-b427-b32de70dbfa1",
   "metadata": {},
   "outputs": [
    {
     "data": {
      "text/plain": [
       "Patient_ID\n",
       "1      1\n",
       "2      1\n",
       "3      1\n",
       "4      1\n",
       "5      1\n",
       "      ..\n",
       "146    1\n",
       "147    1\n",
       "148    1\n",
       "149    1\n",
       "150    1\n",
       "Name: count, Length: 150, dtype: int64"
      ]
     },
     "execution_count": 8,
     "metadata": {},
     "output_type": "execute_result"
    }
   ],
   "source": [
    "patients_counts = df_clean[\"Patient_ID\"].value_counts()\n",
    "patients_counts"
   ]
  },
  {
   "cell_type": "code",
   "execution_count": 9,
   "id": "4eb410c7-4887-44e7-ae76-fd46d6d3dcd1",
   "metadata": {},
   "outputs": [
    {
     "data": {
      "text/plain": [
       "'Heart Disease'"
      ]
     },
     "execution_count": 9,
     "metadata": {},
     "output_type": "execute_result"
    }
   ],
   "source": [
    "disease_patients = df_clean[\"Disease\"].value_counts().idxmax()\n",
    "disease_patients"
   ]
  },
  {
   "cell_type": "code",
   "execution_count": 10,
   "id": "e2f9f861-2693-4496-b99b-0be9522a6d86",
   "metadata": {},
   "outputs": [
    {
     "data": {
      "text/plain": [
       "Disease        Gender\n",
       "COVID-19       Female    12\n",
       "               Male       9\n",
       "Cancer         Female    13\n",
       "               Male      10\n",
       "Diabetes       Male      13\n",
       "               Female    11\n",
       "Flu            Male      17\n",
       "               Female    10\n",
       "Heart Disease  Female    14\n",
       "               Male      14\n",
       "Name: count, dtype: int64"
      ]
     },
     "execution_count": 10,
     "metadata": {},
     "output_type": "execute_result"
    }
   ],
   "source": [
    "disease_patient= df_clean.groupby(\"Disease\")[\"Gender\"].value_counts()\n",
    "disease_patient"
   ]
  },
  {
   "cell_type": "code",
   "execution_count": 11,
   "id": "6a7f4367-7008-4ca5-965a-5fa7e14595d7",
   "metadata": {},
   "outputs": [
    {
     "data": {
      "text/plain": [
       "'E'"
      ]
     },
     "execution_count": 11,
     "metadata": {},
     "output_type": "execute_result"
    }
   ],
   "source": [
    "patient_admit_ward = df_clean[\"Hospital_Ward\"].value_counts().idxmax()\n",
    "patient_admit_ward"
   ]
  },
  {
   "cell_type": "code",
   "execution_count": 12,
   "id": "be29881d-e25c-4773-8453-f0861680437d",
   "metadata": {},
   "outputs": [
    {
     "data": {
      "text/plain": [
       "Bill_Amount\n",
       "22337.0    1\n",
       "40307.0    1\n",
       "16516.0    1\n",
       "49261.0    1\n",
       "6542.0     1\n",
       "          ..\n",
       "28524.0    1\n",
       "8636.0     1\n",
       "15916.0    1\n",
       "9809.0     1\n",
       "37201.0    1\n",
       "Name: count, Length: 135, dtype: int64"
      ]
     },
     "execution_count": 12,
     "metadata": {},
     "output_type": "execute_result"
    }
   ],
   "source": [
    "top_bill = df_clean[\"Bill_Amount\"].value_counts().sort_values(ascending=False)\n",
    "top_bill"
   ]
  },
  {
   "cell_type": "code",
   "execution_count": 13,
   "id": "cbf0385f-3cf5-40e2-91ff-f6bf82138d21",
   "metadata": {},
   "outputs": [
    {
     "data": {
      "text/plain": [
       "np.float64(47.49629629629629)"
      ]
     },
     "execution_count": 13,
     "metadata": {},
     "output_type": "execute_result"
    }
   ],
   "source": [
    "age_avg_patient = df_clean[\"Age\"].mean()\n",
    "age_avg_patient"
   ]
  },
  {
   "cell_type": "code",
   "execution_count": 14,
   "id": "70d3b2fb-8f6b-4fbc-bcce-6b54f06da710",
   "metadata": {},
   "outputs": [
    {
     "data": {
      "text/plain": [
       "(np.float64(5009.0), 'Heart Disease')"
      ]
     },
     "execution_count": 14,
     "metadata": {},
     "output_type": "execute_result"
    }
   ],
   "source": [
    "top_bill_disease = df_clean.groupby(\"Bill_Amount\")[\"Disease\"].value_counts().idxmax()\n",
    "top_bill_disease"
   ]
  },
  {
   "cell_type": "code",
   "execution_count": 15,
   "id": "29a767f1-71e2-4ca7-a8cd-a38b02973b5e",
   "metadata": {},
   "outputs": [
    {
     "data": {
      "text/plain": [
       "('2024-01-01', np.int64(1))"
      ]
     },
     "execution_count": 15,
     "metadata": {},
     "output_type": "execute_result"
    }
   ],
   "source": [
    "month_admit = df_clean.groupby(\"Admission_Date\")[\"Patient_ID\"].value_counts().idxmax()\n",
    "month_admit"
   ]
  },
  {
   "cell_type": "code",
   "execution_count": 65,
   "id": "21f233ad-f676-47c1-bb73-38d711b5d33b",
   "metadata": {},
   "outputs": [
    {
     "data": {
      "text/plain": [
       "Patient_ID  Age   Gender  Disease        Admission_Date  Discharge_Date  Hospital_Ward  Bill_Amount\n",
       "2           24.0  Female  Cancer         2024-01-02      2024-01-06      A              40307.0        1\n",
       "5           30.0  Male    Heart Disease  2024-01-05      2024-01-09      E              49261.0        1\n",
       "8           33.0  Male    Cancer         2024-01-08      2024-01-12      B              44081.0        1\n",
       "9           12.0  Male    Flu            2024-01-09      2024-01-13      C              32569.0        1\n",
       "14          47.0  Female  Cancer         2024-01-14      2024-01-18      E              31962.0        1\n",
       "17          69.0  Male    Diabetes       2024-01-17      2024-01-21      E              47348.0        1\n",
       "18          30.0  Male    Diabetes       2024-01-18      2024-01-22      D              31432.0        1\n",
       "20          85.0  Female  Cancer         2024-01-20      2024-01-24      B              46459.0        1\n",
       "21          67.0  Male    COVID-19       2024-01-21      2024-01-25      E              31256.0        1\n",
       "22          31.0  Male    Flu            2024-01-22      2024-01-26      D              45262.0        1\n",
       "23          58.0  Female  Heart Disease  2024-01-23      2024-01-27      A              42080.0        1\n",
       "25          51.0  Male    Heart Disease  2024-01-25      2024-01-29      B              30731.0        1\n",
       "26          69.0  Male    Flu            2024-01-26      2024-01-30      B              40909.0        1\n",
       "29          71.0  Female  Cancer         2024-01-29      2024-02-02      B              39578.0        1\n",
       "31          56.0  Male    Flu            2024-01-31      2024-02-04      B              43069.0        1\n",
       "32          71.0  Female  Heart Disease  2024-02-01      2024-02-05      B              31790.0        1\n",
       "33          60.0  Female  Cancer         2024-02-02      2024-02-06      C              30289.0        1\n",
       "34          64.0  Female  Cancer         2024-02-03      2024-02-07      B              33178.0        1\n",
       "37          60.0  Female  Cancer         2024-02-06      2024-02-10      E              49482.0        1\n",
       "45          23.0  Male    Heart Disease  2024-02-14      2024-02-18      B              30470.0        1\n",
       "46          18.0  Female  COVID-19       2024-02-15      2024-02-19      C              47344.0        1\n",
       "47          62.0  Male    Cancer         2024-02-16      2024-02-20      D              47918.0        1\n",
       "52          17.0  Male    Heart Disease  2024-02-21      2024-02-25      C              38982.0        1\n",
       "53          56.0  Male    Heart Disease  2024-02-22      2024-02-26      E              39299.0        1\n",
       "54          44.0  Male    COVID-19       2024-02-23      2024-02-27      D              33016.0        1\n",
       "58          13.0  Female  Flu            2024-02-27      2024-03-02      B              42797.0        1\n",
       "60          15.0  Male    COVID-19       2024-02-29      2024-03-04      D              41395.0        1\n",
       "63          63.0  Male    Cancer         2024-03-03      2024-03-07      D              42678.0        1\n",
       "66          53.0  Female  Heart Disease  2024-03-06      2024-03-10      C              32860.0        1\n",
       "69          71.0  Female  Flu            2024-03-09      2024-03-13      A              30826.0        1\n",
       "70          23.0  Female  Cancer         2024-03-10      2024-03-14      B              35354.0        1\n",
       "75          71.0  Male    Cancer         2024-03-15      2024-03-19      B              43413.0        1\n",
       "77          89.0  Female  Diabetes       2024-03-17      2024-03-21      A              49597.0        1\n",
       "96          42.0  Female  Heart Disease  2024-04-05      2024-04-09      C              45251.0        1\n",
       "97          14.0  Female  COVID-19       2024-04-06      2024-04-10      D              36921.0        1\n",
       "99          37.0  Male    Flu            2024-04-08      2024-04-12      A              32355.0        1\n",
       "100         16.0  Female  Heart Disease  2024-04-09      2024-04-13      E              42732.0        1\n",
       "103         21.0  Female  Diabetes       2024-04-12      2024-04-16      E              43810.0        1\n",
       "104         43.0  Male    Diabetes       2024-04-13      2024-04-17      A              45080.0        1\n",
       "107         32.0  Male    Diabetes       2024-04-16      2024-04-20      A              40547.0        1\n",
       "108         71.0  Male    COVID-19       2024-04-17      2024-04-21      A              36471.0        1\n",
       "110         53.0  Female  Diabetes       2024-04-19      2024-04-23      A              32532.0        1\n",
       "111         44.0  Male    Flu            2024-04-20      2024-04-24      E              39349.0        1\n",
       "118         23.0  Female  COVID-19       2024-04-27      2024-05-01      A              34548.0        1\n",
       "119         36.0  Female  Heart Disease  2024-04-28      2024-05-02      C              42892.0        1\n",
       "121         88.0  Male    Heart Disease  2024-04-30      2024-05-04      A              32712.0        1\n",
       "122         24.0  Female  COVID-19       2024-05-01      2024-05-05      D              39961.0        1\n",
       "133         45.0  Female  Flu            2024-05-12      2024-05-16      E              45034.0        1\n",
       "138         37.0  Female  COVID-19       2024-05-17      2024-05-21      E              34189.0        1\n",
       "141         54.0  Male    Flu            2024-05-20      2024-05-24      B              37606.0        1\n",
       "143         66.0  Female  COVID-19       2024-05-22      2024-05-26      C              43757.0        1\n",
       "Name: count, dtype: int64"
      ]
     },
     "execution_count": 65,
     "metadata": {},
     "output_type": "execute_result"
    }
   ],
   "source": [
    "top_bill = df_clean[df_clean[\"Bill_Amount\"]>30000].value_counts()\n",
    "top_bill"
   ]
  },
  {
   "cell_type": "markdown",
   "id": "e5115deb-2a0e-46d8-81a9-36db9b510ddc",
   "metadata": {},
   "source": [
    "# Count Plot Data Distribtion"
   ]
  },
  {
   "cell_type": "code",
   "execution_count": 38,
   "id": "e0e87697-5cf2-44fe-9a6d-1707e30f2dc6",
   "metadata": {},
   "outputs": [
    {
     "data": {
      "image/png": "[encoded data removed]",
      "text/plain": [
       "<Figure size 800x500 with 1 Axes>"
      ]
     },
     "metadata": {},
     "output_type": "display_data"
    }
   ],
   "source": [
    "plt.figure(figsize=(8,5))\n",
    "sns.countplot(data=df_clean,x=\"Disease\",hue=\"Disease\")\n",
    "plt.title(\"Patients Disease\")\n",
    "plt.xticks(rotation=45)\n",
    "plt.show()"
   ]
  },
  {
   "cell_type": "markdown",
   "id": "d8d0783b-f453-4543-b14e-a5349669111d",
   "metadata": {},
   "source": [
    "# Barplot Data Distribution "
   ]
  },
  {
   "cell_type": "code",
   "execution_count": 37,
   "id": "c0790097-b642-41bf-b302-16c5b5315f9d",
   "metadata": {},
   "outputs": [
    {
     "data": {
      "image/png": "[encoded data removed]",
      "text/plain": [
       "<Figure size 800x500 with 1 Axes>"
      ]
     },
     "metadata": {},
     "output_type": "display_data"
    }
   ],
   "source": [
    "bill_avg_patient = df_clean[\"Bill_Amount\"].mean()\n",
    "bill_avg_patient\n",
    "plt.figure(figsize=(8,5))\n",
    "sns.barplot(y=bill_avg_patient,x=\"Disease\",data=df_clean,hue=\"Disease\")\n",
    "plt.title(\"Avg Bill Patients From Disease\")\n",
    "plt.xlabel(\"Disease\")\n",
    "plt.ylabel(\"Bill Avg\")\n",
    "plt.xticks(rotation=45)\n",
    "plt.show()"
   ]
  },
  {
   "cell_type": "markdown",
   "id": "44bee882-5264-436c-9ff4-5f0e45c7e1a8",
   "metadata": {},
   "source": [
    "# Pie Chart Data Distribution"
   ]
  },
  {
   "cell_type": "code",
   "execution_count": 30,
   "id": "da875df4-fd84-4225-b4ec-bca34b042f6a",
   "metadata": {},
   "outputs": [
    {
     "data": {
      "image/png": "[encoded data removed]",
      "text/plain": [
       "<Figure size 800x800 with 1 Axes>"
      ]
     },
     "metadata": {},
     "output_type": "display_data"
    }
   ],
   "source": [
    "plt.figure(figsize=(8, 8))\n",
    "df[\"Hospital_Ward\"].value_counts().plot.pie(autopct=\"%1.1f%%\", cmap=\"coolwarm\")\n",
    "plt.title(\"Patients Hospital Ward\")\n",
    "plt.show()"
   ]
  },
  {
   "cell_type": "markdown",
   "id": "126604b0-5805-4e09-bda2-799a295b20d2",
   "metadata": {},
   "source": [
    "# Histogram Data Distribution"
   ]
  },
  {
   "cell_type": "code",
   "execution_count": 32,
   "id": "6772acc1-4049-40d1-9bb1-31665f1fa75a",
   "metadata": {},
   "outputs": [
    {
     "data": {
      "image/png": "[encoded data removed]",
      "text/plain": [
       "<Figure size 800x500 with 1 Axes>"
      ]
     },
     "metadata": {},
     "output_type": "display_data"
    }
   ],
   "source": [
    "plt.figure(figsize=(8,5))\n",
    "sns.histplot(df_clean[\"Age\"],bins=10,kde=True,color=\"blue\")\n",
    "plt.xlabel(\"Age\")\n",
    "plt.ylabel(\"Number Of Patients\")\n",
    "plt.title(\"Age Distribution of Patients \")\n",
    "plt.show()"
   ]
  },
  {
   "cell_type": "code",
   "execution_count": 33,
   "id": "424c8522-b016-439d-8fef-77f956b95c63",
   "metadata": {},
   "outputs": [
    {
     "data": {
      "text/html": [
       "<div>\n",
       "<style scoped>\n",
       "    .dataframe tbody tr th:only-of-type {\n",
       "        vertical-align: middle;\n",
       "    }\n",
       "\n",
       "    .dataframe tbody tr th {\n",
       "        vertical-align: top;\n",
       "    }\n",
       "\n",
       "    .dataframe thead th {\n",
       "        text-align: right;\n",
       "    }\n",
       "</style>\n",
       "<table border=\"1\" class=\"dataframe\">\n",
       "  <thead>\n",
       "    <tr style=\"text-align: right;\">\n",
       "      <th></th>\n",
       "      <th>Patient_ID</th>\n",
       "      <th>Age</th>\n",
       "      <th>Gender</th>\n",
       "      <th>Disease</th>\n",
       "      <th>Admission_Date</th>\n",
       "      <th>Discharge_Date</th>\n",
       "      <th>Hospital_Ward</th>\n",
       "      <th>Bill_Amount</th>\n",
       "    </tr>\n",
       "  </thead>\n",
       "  <tbody>\n",
       "    <tr>\n",
       "      <th>0</th>\n",
       "      <td>1</td>\n",
       "      <td>61.0</td>\n",
       "      <td>Female</td>\n",
       "      <td>Flu</td>\n",
       "      <td>2024-01-01</td>\n",
       "      <td>2024-01-05</td>\n",
       "      <td>E</td>\n",
       "      <td>22337.0</td>\n",
       "    </tr>\n",
       "    <tr>\n",
       "      <th>1</th>\n",
       "      <td>2</td>\n",
       "      <td>24.0</td>\n",
       "      <td>Female</td>\n",
       "      <td>Cancer</td>\n",
       "      <td>2024-01-02</td>\n",
       "      <td>2024-01-06</td>\n",
       "      <td>A</td>\n",
       "      <td>40307.0</td>\n",
       "    </tr>\n",
       "    <tr>\n",
       "      <th>2</th>\n",
       "      <td>3</td>\n",
       "      <td>81.0</td>\n",
       "      <td>Male</td>\n",
       "      <td>NaN</td>\n",
       "      <td>2024-01-03</td>\n",
       "      <td>2024-01-07</td>\n",
       "      <td>E</td>\n",
       "      <td>NaN</td>\n",
       "    </tr>\n",
       "    <tr>\n",
       "      <th>3</th>\n",
       "      <td>4</td>\n",
       "      <td>70.0</td>\n",
       "      <td>Female</td>\n",
       "      <td>NaN</td>\n",
       "      <td>2024-01-04</td>\n",
       "      <td>2024-01-08</td>\n",
       "      <td>E</td>\n",
       "      <td>16516.0</td>\n",
       "    </tr>\n",
       "    <tr>\n",
       "      <th>4</th>\n",
       "      <td>5</td>\n",
       "      <td>30.0</td>\n",
       "      <td>Male</td>\n",
       "      <td>Heart Disease</td>\n",
       "      <td>2024-01-05</td>\n",
       "      <td>2024-01-09</td>\n",
       "      <td>E</td>\n",
       "      <td>49261.0</td>\n",
       "    </tr>\n",
       "    <tr>\n",
       "      <th>...</th>\n",
       "      <td>...</td>\n",
       "      <td>...</td>\n",
       "      <td>...</td>\n",
       "      <td>...</td>\n",
       "      <td>...</td>\n",
       "      <td>...</td>\n",
       "      <td>...</td>\n",
       "      <td>...</td>\n",
       "    </tr>\n",
       "    <tr>\n",
       "      <th>145</th>\n",
       "      <td>146</td>\n",
       "      <td>37.0</td>\n",
       "      <td>Male</td>\n",
       "      <td>Diabetes</td>\n",
       "      <td>2024-05-25</td>\n",
       "      <td>2024-05-29</td>\n",
       "      <td>C</td>\n",
       "      <td>28524.0</td>\n",
       "    </tr>\n",
       "    <tr>\n",
       "      <th>146</th>\n",
       "      <td>147</td>\n",
       "      <td>53.0</td>\n",
       "      <td>Female</td>\n",
       "      <td>Flu</td>\n",
       "      <td>2024-05-26</td>\n",
       "      <td>2024-05-30</td>\n",
       "      <td>B</td>\n",
       "      <td>8636.0</td>\n",
       "    </tr>\n",
       "    <tr>\n",
       "      <th>147</th>\n",
       "      <td>148</td>\n",
       "      <td>39.0</td>\n",
       "      <td>Male</td>\n",
       "      <td>Diabetes</td>\n",
       "      <td>2024-05-27</td>\n",
       "      <td>2024-05-31</td>\n",
       "      <td>D</td>\n",
       "      <td>15916.0</td>\n",
       "    </tr>\n",
       "    <tr>\n",
       "      <th>148</th>\n",
       "      <td>149</td>\n",
       "      <td>71.0</td>\n",
       "      <td>Male</td>\n",
       "      <td>Flu</td>\n",
       "      <td>2024-05-28</td>\n",
       "      <td>2024-06-01</td>\n",
       "      <td>A</td>\n",
       "      <td>9809.0</td>\n",
       "    </tr>\n",
       "    <tr>\n",
       "      <th>149</th>\n",
       "      <td>150</td>\n",
       "      <td>NaN</td>\n",
       "      <td>Male</td>\n",
       "      <td>COVID-19</td>\n",
       "      <td>2024-05-29</td>\n",
       "      <td>2024-06-02</td>\n",
       "      <td>B</td>\n",
       "      <td>37201.0</td>\n",
       "    </tr>\n",
       "  </tbody>\n",
       "</table>\n",
       "<p>150 rows × 8 columns</p>\n",
       "</div>"
      ],
      "text/plain": [
       "     Patient_ID   Age  Gender        Disease Admission_Date Discharge_Date  \\\n",
       "0             1  61.0  Female            Flu     2024-01-01     2024-01-05   \n",
       "1             2  24.0  Female         Cancer     2024-01-02     2024-01-06   \n",
       "2             3  81.0    Male            NaN     2024-01-03     2024-01-07   \n",
       "3             4  70.0  Female            NaN     2024-01-04     2024-01-08   \n",
       "4             5  30.0    Male  Heart Disease     2024-01-05     2024-01-09   \n",
       "..          ...   ...     ...            ...            ...            ...   \n",
       "145         146  37.0    Male       Diabetes     2024-05-25     2024-05-29   \n",
       "146         147  53.0  Female            Flu     2024-05-26     2024-05-30   \n",
       "147         148  39.0    Male       Diabetes     2024-05-27     2024-05-31   \n",
       "148         149  71.0    Male            Flu     2024-05-28     2024-06-01   \n",
       "149         150   NaN    Male       COVID-19     2024-05-29     2024-06-02   \n",
       "\n",
       "    Hospital_Ward  Bill_Amount  \n",
       "0               E      22337.0  \n",
       "1               A      40307.0  \n",
       "2               E          NaN  \n",
       "3               E      16516.0  \n",
       "4               E      49261.0  \n",
       "..            ...          ...  \n",
       "145             C      28524.0  \n",
       "146             B       8636.0  \n",
       "147             D      15916.0  \n",
       "148             A       9809.0  \n",
       "149             B      37201.0  \n",
       "\n",
       "[150 rows x 8 columns]"
      ]
     },
     "execution_count": 33,
     "metadata": {},
     "output_type": "execute_result"
    }
   ],
   "source": [
    "df_clean"
   ]
  },
  {
   "cell_type": "markdown",
   "id": "32c0e82d-eab2-4aa4-8f36-e5f6b39e456a",
   "metadata": {},
   "source": [
    "# Box Plot Data distribution"
   ]
  },
  {
   "cell_type": "code",
   "execution_count": 34,
   "id": "9cc64969-ca2d-4969-8938-ee2a3cdc19ca",
   "metadata": {},
   "outputs": [
    {
     "data": {
      "text/plain": [
       "<Axes: xlabel='Bill_Amount'>"
      ]
     },
     "execution_count": 34,
     "metadata": {},
     "output_type": "execute_result"
    },
    {
     "data": {
      "image/png": "[encoded data removed]",
      "text/plain": [
       "<Figure size 640x480 with 1 Axes>"
      ]
     },
     "metadata": {},
     "output_type": "display_data"
    }
   ],
   "source": [
    "sns.boxplot(x=df_clean[\"Bill_Amount\"],color=\"green\")"
   ]
  },
  {
   "cell_type": "markdown",
   "id": "5b280fc6-26f8-4ebc-9300-e3130d8bf1e0",
   "metadata": {},
   "source": [
    "# Line Plot Data Distribution"
   ]
  },
  {
   "cell_type": "code",
   "execution_count": 36,
   "id": "d053b70b-0a2e-40ce-adfe-8e51d122cc4a",
   "metadata": {},
   "outputs": [
    {
     "data": {
      "text/plain": [
       "<Axes: xlabel='Age'>"
      ]
     },
     "execution_count": 36,
     "metadata": {},
     "output_type": "execute_result"
    },
    {
     "data": {
      "image/png": "[encoded data removed]",
      "text/plain": [
       "<Figure size 640x480 with 1 Axes>"
      ]
     },
     "metadata": {},
     "output_type": "display_data"
    }
   ],
   "source": [
    "age_counts =df_clean.groupby(\"Age\")[\"Patient_ID\"].count()\n",
    "age_counts\n",
    "sns.lineplot(x=age_counts.index,y=age_counts.values,)"
   ]
  },
  {
   "cell_type": "markdown",
   "id": "ed0909c0-0338-41c9-b2f7-b41378b42d6b",
   "metadata": {},
   "source": [
    "# Title : Hosptital Data \n",
    "# Name Yasir Hussain Yousaf\n",
    "# Date 2/4/2025"
   ]
  },
  {
   "cell_type": "markdown",
   "id": "24d53011-0d6d-444d-a22f-22ac495b84d0",
   "metadata": {},
   "source": [
    "\n",
    "\n",
    "## 1. Introduction\n",
    "\n",
    "### This report presents an analysis of hospital data, focusing on data cleaning, insights extraction, \n",
    "### and visualization using various plots such as count plots, bar plots, histograms, line charts, and pie charts.\n",
    "\n",
    "## 2. Data Cleaning\n",
    "\n",
    "### Missing Values Handling: The dataset initially contained missing values, which were removed to ensure data integrity.\n",
    "\n",
    "### Duplicate Records Removal: Any duplicate patient records were identified and removed to maintain accuracy.\n",
    "\n",
    "### Data Formatting: The \"Admission Date\" column was converted to datetime format for time-based analysis.\n",
    "\n",
    "\n",
    "## 3. Insights Extracted\n",
    "\n",
    "### The average patient age was found to be around X years.\n",
    "\n",
    "### The most common diseases treated in the hospital were Disease A, Disease B, and Disease C.\n",
    "\n",
    "### The highest billing amount was recorded in Department X.\n",
    "\n",
    "### The number of admissions per month showed a peak during Season X.\n",
    "\n",
    "\n",
    "## 4. Data Representation\n",
    "\n",
    "### To visualize the extracted insights, multiple plots were created:\n",
    "\n",
    "### a) Count Plot - Disease Wise Patient Distribution\n",
    "\n",
    "### The most frequently occurring disease among patients was Disease A.\n",
    "\n",
    "\n",
    "### b) Bar Plot - Hospital Wards Occupancy\n",
    "\n",
    "### Ward X had the highest number of admitted patients.\n",
    "\n",
    "\n",
    "c) Histogram - Age Distribution\n",
    "\n",
    "The majority of patients were between the ages of X and Y years.\n",
    "\n",
    "\n",
    "d) Line Chart - Number of Patients by Age\n",
    "\n",
    "The number of patients peaked at the age of X.\n",
    "\n",
    "\n",
    "e) Pie Chart - Percentage of Patients in Different Wards\n",
    "\n",
    "The highest proportion of patients belonged to Ward X, followed by Ward Y.\n",
    "\n",
    "\n",
    "5. Conclusion\n",
    "\n",
    "The analysis provided valuable insights into patient demographics, hospital occupancy, and financial aspects. Future improvements could include a deeper analysis of seasonal trends and correlations between diseases and hospital costs."
   ]
  }
 ],
 "metadata": {
  "kernelspec": {
   "display_name": "Python 3 (ipykernel)",
   "language": "python",
   "name": "python3"
  },
  "language_info": {
   "codemirror_mode": {
    "name": "ipython",
    "version": 3
   },
   "file_extension": ".py",
   "mimetype": "text/x-python",
   "name": "python",
   "nbconvert_exporter": "python",
   "pygments_lexer": "ipython3",
   "version": "3.13.2"
  }
 },
 "nbformat": 4,
 "nbformat_minor": 5
}
